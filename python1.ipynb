{
 "cells": [
  {
   "cell_type": "code",
   "execution_count": 1,
   "id": "fad8c3cf",
   "metadata": {},
   "outputs": [
    {
     "name": "stdout",
     "output_type": "stream",
     "text": [
      "Display Multiplication table of:2\n",
      "\n",
      "Display Multiplication table of:3\n",
      "2 x 1 = 2 \n",
      "\n",
      "2 x 2 = 4 \n",
      "\n",
      "2 x 3 = 6 \n",
      "\n",
      "2 x 4 = 8 \n",
      "\n",
      "2 x 5 = 10 \n",
      "\n",
      "2 x 6 = 12 \n",
      "\n",
      "2 x 7 = 14 \n",
      "\n",
      "2 x 8 = 16 \n",
      "\n",
      "2 x 9 = 18 \n",
      "\n",
      "2 x 10 = 20 \n",
      "\n",
      "3 x 1 = 3 \n",
      "\n",
      "3 x 2 = 6 \n",
      "\n",
      "3 x 3 = 9 \n",
      "\n",
      "3 x 4 = 12 \n",
      "\n",
      "3 x 5 = 15 \n",
      "\n",
      "3 x 6 = 18 \n",
      "\n",
      "3 x 7 = 21 \n",
      "\n",
      "3 x 8 = 24 \n",
      "\n",
      "3 x 9 = 27 \n",
      "\n",
      "3 x 10 = 30 \n",
      "\n"
     ]
    }
   ],
   "source": [
    "num1=int(input(\"Display Multiplication table of:\"))\n",
    "num2=int(input(\"\\nDisplay Multiplication table of:\"))\n",
    "for i in range(1,11):\n",
    "    print(num1,'x',i,\"=\",num1*i,\"\\n\")\n",
    "for j in range(1,11):\n",
    "    print(num2,'x',j,\"=\",num2*j,\"\\n\")"
   ]
  },
  {
   "cell_type": "code",
   "execution_count": null,
   "id": "452fd12f",
   "metadata": {},
   "outputs": [],
   "source": []
  }
 ],
 "metadata": {
  "kernelspec": {
   "display_name": "Python 3 (ipykernel)",
   "language": "python",
   "name": "python3"
  },
  "language_info": {
   "codemirror_mode": {
    "name": "ipython",
    "version": 3
   },
   "file_extension": ".py",
   "mimetype": "text/x-python",
   "name": "python",
   "nbconvert_exporter": "python",
   "pygments_lexer": "ipython3",
   "version": "3.9.7"
  }
 },
 "nbformat": 4,
 "nbformat_minor": 5
}
